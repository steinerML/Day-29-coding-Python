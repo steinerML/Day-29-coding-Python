{
 "cells": [
  {
   "cell_type": "markdown",
   "id": "001dff35",
   "metadata": {},
   "source": [
    "# BUILT-IN FUNCTION FOR STRING OPERATIONS// upper(),lower(),title(),isupper(),islower(),istitle(),isspace(),isalnum(),isalpha(),isdigit(),casefold()"
   ]
  },
  {
   "cell_type": "code",
   "execution_count": null,
   "id": "faee5729",
   "metadata": {},
   "outputs": [],
   "source": [
    "Python has wide range of function for string handling. some ways of string handling are to convert a string to lowercase, uppercase and title case  using lower(), upper() & title() function respectively. The other ways of handling strings is to check whether the string is in lowercase using islower() function , whether the string is in uppercase  or title case using isupper()  and istitle() function.\n",
    "\n",
    "lower() Function in python converts the input string to lowercase\n",
    "upper() Function in python converts the input string to uppercase\n",
    "title() Function in python converts the input string to proper case or title case. that is, all words begin with uppercase and the rest are lowercase.\n",
    "islower() Function in python checks whether the input string is in lowercase\n",
    "isupper() Function in python checks whether the input string is in uppercase\n",
    "istitle() Function in python checks whether the input string is in title case"
   ]
  },
  {
   "cell_type": "code",
   "execution_count": 63,
   "id": "d7e4b755",
   "metadata": {},
   "outputs": [],
   "source": [
    "a = 'hello world!'\n",
    "b = \"            \"\n",
    "c = \"Ibiza 101\"\n",
    "d = '123'"
   ]
  },
  {
   "cell_type": "code",
   "execution_count": 64,
   "id": "c7bc247c",
   "metadata": {},
   "outputs": [
    {
     "data": {
      "text/plain": [
       "12"
      ]
     },
     "execution_count": 64,
     "metadata": {},
     "output_type": "execute_result"
    }
   ],
   "source": [
    "len(a) #Returns the length of the string"
   ]
  },
  {
   "cell_type": "code",
   "execution_count": 65,
   "id": "21db7740",
   "metadata": {},
   "outputs": [
    {
     "data": {
      "text/plain": [
       "'HELLO WORLD!'"
      ]
     },
     "execution_count": 65,
     "metadata": {},
     "output_type": "execute_result"
    }
   ],
   "source": [
    "a.upper() #Converts the content of the string to UPPERCASE"
   ]
  },
  {
   "cell_type": "code",
   "execution_count": 66,
   "id": "5d463f1e",
   "metadata": {},
   "outputs": [
    {
     "data": {
      "text/plain": [
       "'hello world!'"
      ]
     },
     "execution_count": 66,
     "metadata": {},
     "output_type": "execute_result"
    }
   ],
   "source": [
    "a.lower() #Converts the content of the string to LOWERCASE"
   ]
  },
  {
   "cell_type": "code",
   "execution_count": 67,
   "id": "e99a2fb1",
   "metadata": {},
   "outputs": [
    {
     "data": {
      "text/plain": [
       "'Hello World!'"
      ]
     },
     "execution_count": 67,
     "metadata": {},
     "output_type": "execute_result"
    }
   ],
   "source": [
    "a.title() #Converts the content of the string to LOWERCASE"
   ]
  },
  {
   "cell_type": "code",
   "execution_count": 68,
   "id": "fc78d5a7",
   "metadata": {},
   "outputs": [],
   "source": [
    "#BOOLEAN OPERATORS applied to upper.lower.title!"
   ]
  },
  {
   "cell_type": "code",
   "execution_count": 69,
   "id": "c7edeed3",
   "metadata": {},
   "outputs": [
    {
     "data": {
      "text/plain": [
       "True"
      ]
     },
     "execution_count": 69,
     "metadata": {},
     "output_type": "execute_result"
    }
   ],
   "source": [
    "a.islower() #Checks if input IS LOWERCASE and returns TRUE or FALSE\n",
    "#1.True- If all characters in the string are lower.\n",
    "#2.False- If the string contains 1 or more non-lowercase characters."
   ]
  },
  {
   "cell_type": "code",
   "execution_count": 70,
   "id": "9fda7e62",
   "metadata": {},
   "outputs": [
    {
     "data": {
      "text/plain": [
       "False"
      ]
     },
     "execution_count": 70,
     "metadata": {},
     "output_type": "execute_result"
    }
   ],
   "source": [
    "a.isupper() #Checks if input IS UPPERCASE and returns TRUE or FALSE.\n",
    "# 1.True- If all characters in the string are upper.\n",
    "#2.False- If the string contains 1 or more non-uppercase characters."
   ]
  },
  {
   "cell_type": "code",
   "execution_count": 71,
   "id": "9cf5f7f2",
   "metadata": {},
   "outputs": [
    {
     "data": {
      "text/plain": [
       "False"
      ]
     },
     "execution_count": 71,
     "metadata": {},
     "output_type": "execute_result"
    }
   ],
   "source": [
    "a.istitle() #Checks if input HAS EACH CHARACTER CAPITALIZED  and returns TRUE or FALSE\n",
    "#1.True- If all characters in the string are lower.\n",
    "#2.False- If the string contains 1 or more non-lowercase characters."
   ]
  },
  {
   "cell_type": "code",
   "execution_count": 72,
   "id": "4a539101",
   "metadata": {},
   "outputs": [
    {
     "data": {
      "text/plain": [
       "False"
      ]
     },
     "execution_count": 72,
     "metadata": {},
     "output_type": "execute_result"
    }
   ],
   "source": [
    "a.isspace() #Checks if input contains ONLY SPACES, in this case no, so FALSE"
   ]
  },
  {
   "cell_type": "code",
   "execution_count": 73,
   "id": "7dade868",
   "metadata": {},
   "outputs": [
    {
     "data": {
      "text/plain": [
       "True"
      ]
     },
     "execution_count": 73,
     "metadata": {},
     "output_type": "execute_result"
    }
   ],
   "source": [
    "b.isspace() #Checks if input contains ONLY SPACES, in this case yes, so TRUE"
   ]
  },
  {
   "cell_type": "code",
   "execution_count": 74,
   "id": "4cdbe68f",
   "metadata": {},
   "outputs": [
    {
     "data": {
      "text/plain": [
       "False"
      ]
     },
     "execution_count": 74,
     "metadata": {},
     "output_type": "execute_result"
    }
   ],
   "source": [
    "a.isalnum() #Checks if input contains alphanumeric characters."
   ]
  },
  {
   "cell_type": "code",
   "execution_count": 75,
   "id": "b7651734",
   "metadata": {},
   "outputs": [
    {
     "data": {
      "text/plain": [
       "False"
      ]
     },
     "execution_count": 75,
     "metadata": {},
     "output_type": "execute_result"
    }
   ],
   "source": [
    "b.isalnum() #Checks if input contains alphanumeric characters."
   ]
  },
  {
   "cell_type": "code",
   "execution_count": 76,
   "id": "75b2f408",
   "metadata": {},
   "outputs": [
    {
     "data": {
      "text/plain": [
       "False"
      ]
     },
     "execution_count": 76,
     "metadata": {},
     "output_type": "execute_result"
    }
   ],
   "source": [
    "c.isalnum() #Checks if input contains alphanumeric characters."
   ]
  },
  {
   "cell_type": "code",
   "execution_count": 77,
   "id": "52295bbf",
   "metadata": {},
   "outputs": [
    {
     "data": {
      "text/plain": [
       "False"
      ]
     },
     "execution_count": 77,
     "metadata": {},
     "output_type": "execute_result"
    }
   ],
   "source": [
    "a.isalpha()"
   ]
  },
  {
   "cell_type": "code",
   "execution_count": 78,
   "id": "002ac1ab",
   "metadata": {},
   "outputs": [
    {
     "data": {
      "text/plain": [
       "False"
      ]
     },
     "execution_count": 78,
     "metadata": {},
     "output_type": "execute_result"
    }
   ],
   "source": [
    "b.isalpha()"
   ]
  },
  {
   "cell_type": "code",
   "execution_count": 79,
   "id": "bb71ade0",
   "metadata": {},
   "outputs": [
    {
     "data": {
      "text/plain": [
       "False"
      ]
     },
     "execution_count": 79,
     "metadata": {},
     "output_type": "execute_result"
    }
   ],
   "source": [
    "c.isalpha()"
   ]
  },
  {
   "cell_type": "code",
   "execution_count": 80,
   "id": "6c7a611a",
   "metadata": {},
   "outputs": [
    {
     "data": {
      "text/plain": [
       "False"
      ]
     },
     "execution_count": 80,
     "metadata": {},
     "output_type": "execute_result"
    }
   ],
   "source": [
    "a.isdigit() #Checks whether the string contains digits ONLY!"
   ]
  },
  {
   "cell_type": "code",
   "execution_count": 81,
   "id": "81ca517c",
   "metadata": {},
   "outputs": [
    {
     "data": {
      "text/plain": [
       "False"
      ]
     },
     "execution_count": 81,
     "metadata": {},
     "output_type": "execute_result"
    }
   ],
   "source": [
    "b.isdigit() #Checks whether the string contains digits ONLY!"
   ]
  },
  {
   "cell_type": "code",
   "execution_count": 82,
   "id": "97cc2246",
   "metadata": {
    "scrolled": true
   },
   "outputs": [
    {
     "data": {
      "text/plain": [
       "False"
      ]
     },
     "execution_count": 82,
     "metadata": {},
     "output_type": "execute_result"
    }
   ],
   "source": [
    "c.isdigit() #Checks whether the string contains digits ONLY!"
   ]
  },
  {
   "cell_type": "code",
   "execution_count": 83,
   "id": "6197c18e",
   "metadata": {},
   "outputs": [
    {
     "data": {
      "text/plain": [
       "True"
      ]
     },
     "execution_count": 83,
     "metadata": {},
     "output_type": "execute_result"
    }
   ],
   "source": [
    "d.isdigit() #Checks whether the string contains digits ONLY!"
   ]
  },
  {
   "cell_type": "code",
   "execution_count": 84,
   "id": "a6893c8e",
   "metadata": {},
   "outputs": [
    {
     "data": {
      "text/plain": [
       "'hello world!'"
      ]
     },
     "execution_count": 84,
     "metadata": {},
     "output_type": "execute_result"
    }
   ],
   "source": [
    "a.casefold()"
   ]
  },
  {
   "cell_type": "code",
   "execution_count": 85,
   "id": "fa1ce617",
   "metadata": {},
   "outputs": [
    {
     "data": {
      "text/plain": [
       "'ibiza 101'"
      ]
     },
     "execution_count": 85,
     "metadata": {},
     "output_type": "execute_result"
    }
   ],
   "source": [
    "c.casefold()"
   ]
  },
  {
   "cell_type": "markdown",
   "id": "d7b0081f",
   "metadata": {},
   "source": [
    "# syntax of lstrip(),  rstrip() and strip() function in python:"
   ]
  },
  {
   "cell_type": "code",
   "execution_count": 38,
   "id": "11e77dc6",
   "metadata": {},
   "outputs": [],
   "source": [
    "str = \"       HHello I'm 23       \"\n",
    "str1 = \"HHello I'm 24       \""
   ]
  },
  {
   "cell_type": "code",
   "execution_count": 44,
   "id": "de325882",
   "metadata": {},
   "outputs": [
    {
     "data": {
      "text/plain": [
       "\"HHello I'm 23       \""
      ]
     },
     "execution_count": 44,
     "metadata": {},
     "output_type": "execute_result"
    }
   ],
   "source": [
    "str.lstrip() #Removes all the leading (LEFT) whitespaces or LEFT spaces of the string."
   ]
  },
  {
   "cell_type": "code",
   "execution_count": 47,
   "id": "5b932443",
   "metadata": {},
   "outputs": [
    {
     "data": {
      "text/plain": [
       "\"ello I'm 24       \""
      ]
     },
     "execution_count": 47,
     "metadata": {},
     "output_type": "execute_result"
    }
   ],
   "source": [
    "str1.lstrip(\"H\") #Removes a specific character!"
   ]
  },
  {
   "cell_type": "code",
   "execution_count": 35,
   "id": "bc083649",
   "metadata": {},
   "outputs": [
    {
     "data": {
      "text/plain": [
       "\"       HHello I'm 23\""
      ]
     },
     "execution_count": 35,
     "metadata": {},
     "output_type": "execute_result"
    }
   ],
   "source": [
    "str.rstrip() # Removes all the tailing (RIGHT) whitespaces or RIGHT spaces of the string."
   ]
  },
  {
   "cell_type": "code",
   "execution_count": 36,
   "id": "6251b2bb",
   "metadata": {},
   "outputs": [
    {
     "data": {
      "text/plain": [
       "\"HHello I'm 23\""
      ]
     },
     "execution_count": 36,
     "metadata": {},
     "output_type": "execute_result"
    }
   ],
   "source": [
    "str.strip() #Removes all the whitespaces on both sides LEFT&RIGHT."
   ]
  },
  {
   "cell_type": "code",
   "execution_count": 48,
   "id": "6f362f13",
   "metadata": {},
   "outputs": [
    {
     "data": {
      "text/plain": [
       "\"ello I'm 24       \""
      ]
     },
     "execution_count": 48,
     "metadata": {},
     "output_type": "execute_result"
    }
   ],
   "source": [
    "#We can also specify characters to be removed in between brackets as a string (\"character_to_be_removed\")\n",
    "str1.lstrip(\"H\")"
   ]
  },
  {
   "cell_type": "code",
   "execution_count": 51,
   "id": "7fb1e3fa",
   "metadata": {},
   "outputs": [
    {
     "data": {
      "text/plain": [
       "\"HHello I'm 24\""
      ]
     },
     "execution_count": 51,
     "metadata": {},
     "output_type": "execute_result"
    }
   ],
   "source": [
    "str1.rstrip()"
   ]
  },
  {
   "cell_type": "code",
   "execution_count": 53,
   "id": "a47748c0",
   "metadata": {},
   "outputs": [
    {
     "data": {
      "text/plain": [
       "\"HHello I'm 24\""
      ]
     },
     "execution_count": 53,
     "metadata": {},
     "output_type": "execute_result"
    }
   ],
   "source": [
    "str1.strip()"
   ]
  },
  {
   "cell_type": "markdown",
   "id": "9e4ef1cf",
   "metadata": {},
   "source": [
    "# Startswith()"
   ]
  },
  {
   "cell_type": "code",
   "execution_count": 58,
   "id": "5bce2e00",
   "metadata": {},
   "outputs": [
    {
     "data": {
      "text/plain": [
       "False"
      ]
     },
     "execution_count": 58,
     "metadata": {},
     "output_type": "execute_result"
    }
   ],
   "source": [
    "word = \"American Eagle\"\n",
    "word1 = \"Bmerican Eagle\"\n",
    "word.startswith(\"A\")"
   ]
  },
  {
   "cell_type": "code",
   "execution_count": 61,
   "id": "b20a82de",
   "metadata": {},
   "outputs": [
    {
     "name": "stdout",
     "output_type": "stream",
     "text": [
      "It does not start with an A\n"
     ]
    }
   ],
   "source": [
    "if word.startswith(\"A\") == True:\n",
    "    print(\"It starts with an A, indeed\")\n",
    "else:\n",
    "    print(\"It does not start with an A\")"
   ]
  },
  {
   "cell_type": "code",
   "execution_count": null,
   "id": "127650f9",
   "metadata": {},
   "outputs": [],
   "source": []
  }
 ],
 "metadata": {
  "kernelspec": {
   "display_name": "Python 3 (ipykernel)",
   "language": "python",
   "name": "python3"
  },
  "language_info": {
   "codemirror_mode": {
    "name": "ipython",
    "version": 3
   },
   "file_extension": ".py",
   "mimetype": "text/x-python",
   "name": "python",
   "nbconvert_exporter": "python",
   "pygments_lexer": "ipython3",
   "version": "3.9.7"
  }
 },
 "nbformat": 4,
 "nbformat_minor": 5
}
